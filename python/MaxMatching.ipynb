{
 "cells": [
  {
   "cell_type": "code",
   "execution_count": 98,
   "metadata": {},
   "outputs": [],
   "source": [
    "import copy\n",
    "import random"
   ]
  },
  {
   "cell_type": "code",
   "execution_count": 99,
   "metadata": {},
   "outputs": [],
   "source": [
    "class GraficaBipartita:\n",
    "    def __init__(self, X, Y):\n",
    "        self.vecinosX = [[] for x in range(X)]\n",
    "        self.vecinosY = [[] for y in range(Y)]\n",
    "    \n",
    "    def agregar_arista(self, x, y):\n",
    "        self.vecinosX[x].append(y)\n",
    "        self.vecinosY[y].append(x)\n",
    "        \n",
    "    def num_vertices_X(self):\n",
    "        return len(self.vecinosX)\n",
    "    \n",
    "    def num_vertices_Y(self):\n",
    "        return len(self.vecinosY)\n",
    "    \n",
    "    def verticesX(self):\n",
    "        return range(self.num_vertices_X())\n",
    "    \n",
    "    def verticesY(self):\n",
    "        return range(self.num_vertices_Y())"
   ]
  },
  {
   "cell_type": "code",
   "execution_count": 112,
   "metadata": {},
   "outputs": [],
   "source": [
    "class Apareador:\n",
    "    def __init__(self, G:GraficaBipartita):\n",
    "        self.G = G\n",
    "        self.apareamientoX = [None]*G.num_vertices_X()\n",
    "        self.apareamientoY = [None]*G.num_vertices_Y()\n",
    "        self.ObtenerApareamientoCualquiera()\n",
    "        self.AumentarApareamiento()\n",
    "        \n",
    "    def ObtenerApareamientoCualquiera(self):\n",
    "        for x in self.G.verticesX():\n",
    "            y = self.encontrarPrimerNoApareado(x)\n",
    "            if y != None:\n",
    "                self.aparear(x, y)\n",
    "    \n",
    "    def AumentarApareamiento(self):\n",
    "        camino = self.encontrarCaminoAumento()\n",
    "        while camino:\n",
    "            self.aplicarCaminoAumento(camino)\n",
    "            camino = self.encontrarCaminoAumento()\n",
    "    \n",
    "    def aparear(self, x, y):\n",
    "        self.apareamientoX[x] = y\n",
    "        self.apareamientoY[y] = x\n",
    "        \n",
    "    def encontrarPrimerNoApareado(self, x):\n",
    "        for y in self.G.vecinosX[x]:\n",
    "            if self.apareamientoY[y] == None:\n",
    "                return y\n",
    "        return None\n",
    "    \n",
    "    def encontrarCaminoAumento(self):\n",
    "        vertices = list(self.G.verticesX())\n",
    "        random.shuffle(vertices)\n",
    "        for x in vertices:\n",
    "            if self.apareamientoX[x] != None:\n",
    "                continue\n",
    "            camino_x = self.encontrarCaminoEnX(x)\n",
    "            if camino_x != None:\n",
    "                return camino_x\n",
    "        return None\n",
    "    \n",
    "    def aplicarCaminoAumento(self, camino):\n",
    "        for i in range(0, len(camino), 2):\n",
    "            x = camino[i]\n",
    "            y = camino[i+1]\n",
    "            self.aparear(x, y)\n",
    "        \n",
    "    \n",
    "    def encontrarCaminoEnX(self, x):\n",
    "        frontera = [[x]]\n",
    "        explorados = [False] * self.G.num_vertices_Y()\n",
    "        \n",
    "        while frontera:\n",
    "            p = frontera.pop()\n",
    "            u = p[-1]\n",
    "            vecinos = self.G.vecinosX[u]\n",
    "            for y in vecinos:\n",
    "                if explorados[y]:\n",
    "                    continue\n",
    "                explorados[y] = True\n",
    "                x = self.apareamientoY[y]\n",
    "                if x == None:\n",
    "                    return p+[y]\n",
    "                camino = p[:]+[y, x]\n",
    "                frontera.append(camino)\n",
    "        \n",
    "        return None"
   ]
  },
  {
   "cell_type": "code",
   "execution_count": 113,
   "metadata": {},
   "outputs": [],
   "source": [
    "G = GraficaBipartita(5, 4)"
   ]
  },
  {
   "cell_type": "code",
   "execution_count": 114,
   "metadata": {},
   "outputs": [],
   "source": [
    "G.agregar_arista(0,1)\n",
    "G.agregar_arista(0,2)\n",
    "G.agregar_arista(1,0)\n",
    "G.agregar_arista(2,0)\n",
    "G.agregar_arista(3,1)\n",
    "G.agregar_arista(3,2)\n",
    "G.agregar_arista(3,3)"
   ]
  },
  {
   "cell_type": "code",
   "execution_count": 115,
   "metadata": {},
   "outputs": [],
   "source": [
    "M = Apareador(G)"
   ]
  },
  {
   "cell_type": "code",
   "execution_count": 116,
   "metadata": {},
   "outputs": [
    {
     "data": {
      "text/plain": [
       "<__main__.Apareador at 0x7f8f95c8a668>"
      ]
     },
     "execution_count": 116,
     "metadata": {},
     "output_type": "execute_result"
    }
   ],
   "source": [
    "M"
   ]
  },
  {
   "cell_type": "code",
   "execution_count": 117,
   "metadata": {},
   "outputs": [
    {
     "data": {
      "text/plain": [
       "[1, 0, None, 2, None]"
      ]
     },
     "execution_count": 117,
     "metadata": {},
     "output_type": "execute_result"
    }
   ],
   "source": [
    "M.apareamientoX"
   ]
  },
  {
   "cell_type": "code",
   "execution_count": 118,
   "metadata": {},
   "outputs": [
    {
     "data": {
      "text/plain": [
       "[1, 0, 3, None]"
      ]
     },
     "execution_count": 118,
     "metadata": {},
     "output_type": "execute_result"
    }
   ],
   "source": [
    "M.apareamientoY\n"
   ]
  },
  {
   "cell_type": "code",
   "execution_count": 119,
   "metadata": {},
   "outputs": [
    {
     "name": "stdout",
     "output_type": "stream",
     "text": [
      "Yeiii :D\n"
     ]
    }
   ],
   "source": [
    "print(\"Yeiii :D\")"
   ]
  },
  {
   "cell_type": "code",
   "execution_count": null,
   "metadata": {},
   "outputs": [],
   "source": []
  }
 ],
 "metadata": {
  "kernelspec": {
   "display_name": "Python 3",
   "language": "python",
   "name": "python3"
  },
  "language_info": {
   "codemirror_mode": {
    "name": "ipython",
    "version": 3
   },
   "file_extension": ".py",
   "mimetype": "text/x-python",
   "name": "python",
   "nbconvert_exporter": "python",
   "pygments_lexer": "ipython3",
   "version": "3.7.3"
  }
 },
 "nbformat": 4,
 "nbformat_minor": 2
}
