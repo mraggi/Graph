{
 "cells": [
  {
   "cell_type": "code",
   "execution_count": 1,
   "metadata": {},
   "outputs": [],
   "source": [
    "%reload_ext autoreload\n",
    "%autoreload 2"
   ]
  },
  {
   "cell_type": "code",
   "execution_count": 2,
   "metadata": {},
   "outputs": [],
   "source": [
    "from Grafica import Grafica\n",
    "from Arbol import alturas, encontrar_padres, children\n",
    "import math"
   ]
  },
  {
   "cell_type": "code",
   "execution_count": 3,
   "metadata": {},
   "outputs": [],
   "source": [
    "G = Grafica(5)"
   ]
  },
  {
   "cell_type": "code",
   "execution_count": 4,
   "metadata": {},
   "outputs": [],
   "source": [
    "def log2(x):\n",
    "    return int(math.log2(x))"
   ]
  },
  {
   "cell_type": "code",
   "execution_count": 5,
   "metadata": {},
   "outputs": [],
   "source": [
    "def llenar_de_Nones(A, H):\n",
    "    for a in A:\n",
    "        while len(a) < log2(H)+1:\n",
    "            a.append(None)"
   ]
  },
  {
   "cell_type": "code",
   "execution_count": 6,
   "metadata": {},
   "outputs": [],
   "source": [
    "def encontrar_raiz(padres):\n",
    "    for i,p in enumerate(padres):\n",
    "        if p is None:\n",
    "            return i\n",
    "    return -1"
   ]
  },
  {
   "cell_type": "code",
   "execution_count": 11,
   "metadata": {},
   "outputs": [],
   "source": [
    "def ancestros_pot2(padres, alturas):\n",
    "    n = len(padres)\n",
    "    A = [[padres[v]] for v in range(n)]\n",
    "    H = max(alturas)\n",
    "    #print(\"alturas=\",alturas)\n",
    "    llenar_de_Nones(A, H)\n",
    "    #print(\"A=\",A)\n",
    "    #print(\"H=\",H)\n",
    "    for h in range(1, log2(H) + 1):\n",
    "        for v in range(n):\n",
    "            #print(\"Haciendo v,h = \", v, h)\n",
    "            ancestro = A[v][h-1]\n",
    "            if ancestro is not None:\n",
    "                A[v][h] = A[ancestro][h-1]\n",
    "\n",
    "    return A"
   ]
  },
  {
   "cell_type": "code",
   "execution_count": 12,
   "metadata": {},
   "outputs": [
    {
     "data": {
      "text/plain": [
       "1"
      ]
     },
     "execution_count": 12,
     "metadata": {},
     "output_type": "execute_result"
    }
   ],
   "source": [
    "log2(3)"
   ]
  },
  {
   "cell_type": "code",
   "execution_count": 13,
   "metadata": {},
   "outputs": [
    {
     "data": {
      "text/plain": [
       "[[4, 2, None],\n",
       " [2, None, None],\n",
       " [None, None, None],\n",
       " [4, 2, None],\n",
       " [2, None, None],\n",
       " [1, 2, None],\n",
       " [1, 2, None],\n",
       " [4, 2, None],\n",
       " [5, 1, None],\n",
       " [5, 1, None],\n",
       " [9, 5, 2],\n",
       " [10, 9, 1]]"
      ]
     },
     "execution_count": 13,
     "metadata": {},
     "output_type": "execute_result"
    }
   ],
   "source": [
    "padres = [4,2,None,4,2,1,1,4,5,5,9,10]\n",
    "h = alturas(children(padres), encontrar_raiz(padres))\n",
    "ancestros_pot2(padres,h)"
   ]
  },
  {
   "cell_type": "code",
   "execution_count": 15,
   "metadata": {},
   "outputs": [],
   "source": [
    "def potencia_mas_cercana(dif):\n",
    "    return int(math.log2(dif))"
   ]
  },
  {
   "cell_type": "code",
   "execution_count": 16,
   "metadata": {},
   "outputs": [],
   "source": [
    "class LCAPotencias2():\n",
    "    def __init__(self, padres):\n",
    "        self.raiz = encontrar_raiz(padres)\n",
    "        self.children = children(padres)\n",
    "        self.L = alturas(self.children,self.raiz)\n",
    "        self.A = ancestros_pot2(padres, self.L)\n",
    "    \n",
    "    def lca(self, u, v):\n",
    "        u, v = self._nivelar(u, v)\n",
    "        return self._encontrar_lca_mismo_nivel(u, v)\n",
    "    \n",
    "    def _nivelar(self, u, v):\n",
    "        if self.L[u] < self.L[v]:\n",
    "            return u, self._ancestro_a_nivel(v, self.L[u])\n",
    "        return v, self._ancestro_a_nivel(u, self.L[v])\n",
    "    \n",
    "    def _encontrar_lca_mismo_nivel(self, u, v):\n",
    "        if u == v:\n",
    "            return u\n",
    "        \n",
    "        if self.A[u][0] == self.A[v][0]:\n",
    "            return self.A[u][0]\n",
    "        \n",
    "        i = self._ultima_potencia_diferente(u, v)\n",
    "        u, v = self.A[u][i], self.A[v][i]\n",
    "        \n",
    "        return self._encontrar_lca_mismo_nivel(u, v)\n",
    "    \n",
    "    def _ultima_potencia_diferente(self, u, v):\n",
    "        for i in range(len(self.A[u])):\n",
    "            if self.A[u][i] == self.A[v][i]:\n",
    "                return i-1\n",
    "        return len(self.A[u])-1\n",
    "    \n",
    "    def _ancestro_a_nivel(self, u, nivel:int):\n",
    "        dif = self.L[u] - nivel\n",
    "        \n",
    "        if dif == 0:\n",
    "            return u\n",
    "        \n",
    "        potencia = potencia_mas_cercana(dif)\n",
    "        return self._ancestro_a_nivel(self.A[u][potencia], nivel)\n",
    "    "
   ]
  },
  {
   "cell_type": "code",
   "execution_count": 19,
   "metadata": {},
   "outputs": [],
   "source": [
    "padres = [4,2,None,4,2,1,1,4,5,5,9,10]"
   ]
  },
  {
   "cell_type": "code",
   "execution_count": 20,
   "metadata": {},
   "outputs": [],
   "source": [
    "LCA = LCAPotencias2(padres)"
   ]
  },
  {
   "cell_type": "code",
   "execution_count": 28,
   "metadata": {},
   "outputs": [
    {
     "data": {
      "text/plain": [
       "1"
      ]
     },
     "execution_count": 28,
     "metadata": {},
     "output_type": "execute_result"
    }
   ],
   "source": [
    "LCA.lca(8,6)"
   ]
  },
  {
   "cell_type": "code",
   "execution_count": null,
   "metadata": {},
   "outputs": [],
   "source": []
  }
 ],
 "metadata": {
  "kernelspec": {
   "display_name": "Python 3",
   "language": "python",
   "name": "python3"
  },
  "language_info": {
   "codemirror_mode": {
    "name": "ipython",
    "version": 3
   },
   "file_extension": ".py",
   "mimetype": "text/x-python",
   "name": "python",
   "nbconvert_exporter": "python",
   "pygments_lexer": "ipython3",
   "version": "3.7.3"
  }
 },
 "nbformat": 4,
 "nbformat_minor": 2
}
