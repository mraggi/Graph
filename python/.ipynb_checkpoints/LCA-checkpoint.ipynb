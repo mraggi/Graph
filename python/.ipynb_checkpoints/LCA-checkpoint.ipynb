{
 "cells": [
  {
   "cell_type": "code",
   "execution_count": 1,
   "metadata": {},
   "outputs": [],
   "source": [
    "%reload_ext autoreload\n",
    "%autoreload 2"
   ]
  },
  {
   "cell_type": "code",
   "execution_count": 4,
   "metadata": {},
   "outputs": [],
   "source": [
    "from Grafica import Grafica\n",
    "from Arbol import alturas, encontrar_padres\n",
    "import math"
   ]
  },
  {
   "cell_type": "code",
   "execution_count": 3,
   "metadata": {},
   "outputs": [],
   "source": [
    "G = Grafica(5)"
   ]
  },
  {
   "cell_type": "code",
   "execution_count": 5,
   "metadata": {},
   "outputs": [],
   "source": [
    "def llenar_de_Nones(A, H):\n",
    "    for a in A:\n",
    "        while len(a) < int(math.log2(H)):\n",
    "            a.append(None)"
   ]
  },
  {
   "cell_type": "code",
   "execution_count": 6,
   "metadata": {},
   "outputs": [],
   "source": [
    "def ancestros_pot2(padres, alturas):\n",
    "    n = len(padres)\n",
    "    A = [[padres[v]] for v in range(n)]\n",
    "    H = max(alturas)\n",
    "    llenar_de_Nones(A, H)\n",
    "            \n",
    "    for h in range(1, int(math.log2(H)) + 1):\n",
    "        for v in range(n):\n",
    "            ancestro = A[v][h-1]\n",
    "            if ancestro is not None:\n",
    "                A[v][h] = A[ancestro][h-1]\n",
    "\n",
    "    return A"
   ]
  },
  {
   "cell_type": "code",
   "execution_count": null,
   "metadata": {},
   "outputs": [],
   "source": [
    "def potencia_mas_cercana(dif):\n",
    "    return int(math.log2(dif))"
   ]
  },
  {
   "cell_type": "code",
   "execution_count": 7,
   "metadata": {},
   "outputs": [],
   "source": [
    "class LCAPotencias2():\n",
    "    def __init__(self, padres):\n",
    "        self.L = alturas(padres)\n",
    "        self.A = ancestros_pot2(padres, self.L)\n",
    "    \n",
    "    def lca(self, u, v):\n",
    "        u, v = self._nivelar(u, v)\n",
    "        return self._encontrar_lca_mismo_nivel(u, v)\n",
    "    \n",
    "    def _nivelar(self, u, v):\n",
    "        if self.L[u] < self.L[v]:\n",
    "            return u, self._ancestro_a_nivel(v, self.L[u])\n",
    "        return v, self._ancestro_a_nivel(u, self.L[v])\n",
    "    \n",
    "    def _encontrar_lca_mismo_nivel(self, u, v):\n",
    "        if u == v:\n",
    "            return u\n",
    "        \n",
    "        if self.A[u][0] == self.A[v][0]:\n",
    "            return self.A[u][0]\n",
    "        \n",
    "        i = self._ultima_potencia_diferente(u, v)\n",
    "        u, v = self.A[u][i], self.A[v][i]\n",
    "        \n",
    "        return self._encontrar_lca_mismo_nivel(u, v)\n",
    "    \n",
    "    def _ultima_potencia_diferente(self, u, v):\n",
    "        for i in range(len(self.A[u])):\n",
    "            if self.A[u][i] == self.A[v][i]:\n",
    "                return i-1\n",
    "        return len(self.A[u])-1\n",
    "    \n",
    "    def _ancestro_a_nivel(self, u, nivel:int):\n",
    "        dif = self.L[u] - nivel\n",
    "        \n",
    "        if dif == 0:\n",
    "            return u\n",
    "        \n",
    "        potencia = potencia_mas_cercana(dif)\n",
    "        return self._ancestro_a_nivel(self.A[u][potencia], nivel)\n",
    "    "
   ]
  },
  {
   "cell_type": "code",
   "execution_count": null,
   "metadata": {},
   "outputs": [],
   "source": []
  }
 ],
 "metadata": {
  "kernelspec": {
   "display_name": "Python 3",
   "language": "python",
   "name": "python3"
  },
  "language_info": {
   "codemirror_mode": {
    "name": "ipython",
    "version": 3
   },
   "file_extension": ".py",
   "mimetype": "text/x-python",
   "name": "python",
   "nbconvert_exporter": "python",
   "pygments_lexer": "ipython3",
   "version": "3.7.3"
  }
 },
 "nbformat": 4,
 "nbformat_minor": 2
}
